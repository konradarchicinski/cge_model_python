{
 "cells": [
  {
   "cell_type": "code",
   "execution_count": 28,
   "metadata": {},
   "outputs": [],
   "source": [
    "import pandas as pd\n",
    "import numpy as np\n",
    "import os\n",
    "from pathlib import Path\n",
    "\n",
    "# DATASET\n",
    "cwd = str(Path(os.getcwd()).parent)\n",
    "macro = pd.read_excel(cwd + '\\\\Data\\\\SAM_Macro.xlsx',\n",
    "                      header = 0)\n",
    "macro = macro.drop(axis = 0, index = 0) #cleaning excel error\n",
    "micro = pd.read_excel(cwd + '\\\\Data\\\\SAM_Micro.xlsx',\n",
    "                      header = 0, index_col = 0)\n",
    "\n",
    "# FACTORS\n",
    "households = ['hhd-0', 'hhd-1', 'hhd-2', 'hhd-3', 'hhd-4', 'hhd-5', 'hhd-6', 'hhd-7', 'hhd-8',\n",
    "              'hhd-91', 'hhd-92', 'hhd-93', 'hhd-94', 'hhd-95', 'gov']\n",
    "factors = ['flab-p', 'flab-m', 'flab-s', 'flab-t', 'fcap']\n",
    "taxes = ['atax', 'dtax', 'mtax', 'stax']\n",
    "column_names = list(micro.columns)\n",
    "goods_p = column_names[1:62]\n",
    "goods_c = column_names[62:166]\n",
    "\n",
    "def extract(df, file_name, r = None, c = None):\n",
    "    if(r == None):\n",
    "        df1 = df.loc[:,c]\n",
    "        return df1.to_csv(cwd + '\\\\Data\\\\' + file_name + '.csv', na_rep = '-')\n",
    "    elif(c == None):\n",
    "        df1 = df.loc[r,:]\n",
    "        return df1.to_csv(cwd + '\\\\Data\\\\' + file_name + '.csv', na_rep = '-')\n",
    "    elif(r == None and c == None):\n",
    "        return df.to_csv(cwd + '\\\\Data\\\\' + file_name + '.csv', na_rep = '-')\n",
    "    else:\n",
    "        df1 = df.loc[r,c]\n",
    "        return df1.to_csv(cwd + '\\\\Data\\\\' + file_name + '.csv', na_rep = '-')\n",
    "    \n",
    "extract(micro, 'endowment', households, factors)\n",
    "extract(micro, 'production', factors, goods_p)\n",
    "extract(micro, 'consumption', goods_c, households)\n",
    "extract(micro, 'taxes', taxes)"
   ]
  },
  {
   "cell_type": "code",
   "execution_count": null,
   "metadata": {},
   "outputs": [],
   "source": []
  }
 ],
 "metadata": {
  "kernelspec": {
   "display_name": "Python 3",
   "language": "python",
   "name": "python3"
  },
  "language_info": {
   "codemirror_mode": {
    "name": "ipython",
    "version": 3
   },
   "file_extension": ".py",
   "mimetype": "text/x-python",
   "name": "python",
   "nbconvert_exporter": "python",
   "pygments_lexer": "ipython3",
   "version": "3.7.5"
  }
 },
 "nbformat": 4,
 "nbformat_minor": 2
}
